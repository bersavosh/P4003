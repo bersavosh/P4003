{
 "cells": [
  {
   "cell_type": "markdown",
   "id": "a0152eb9-3d41-4aca-8d21-ed3ef9de77d3",
   "metadata": {},
   "source": [
    "# Student Name: \n",
    "\n",
    "---\n",
    "# PHYS4003: Statistics Module Assignment \n",
    "\n",
    "**Due on Sep 1st, 2025**\n",
    "\n",
    "**Total points: 50 (15% of the total mark for the unit)**\n",
    "\n",
    "---\n",
    "\n",
    "**Academic Integrity**\n",
    "\n",
    "This is an individual assessment, and you should produce your own work. You may discuss the assignment with your colleagues in the early stages of problem solving, but you should write your own solutions, and should not share solutions with your fellow students. References are required for any external content that you draw on. Asking others (e.g. friends,family, websites, tutors) for answers to questions is contract cheating, and is not permitted\n",
    "\n",
    "---\n",
    "\n",
    "**Instructions for the assignment:**\n",
    "- The assignment is a single Jupyter notebook, containing 3 questions (each with multiple parts).\n",
    "- You are free to use code snippets from the tutorial notebooks.\n",
    "- The assignment also has four associated text files, which contain the input data for analysis in the assignment. These files are automatically read in within the notebook. They simply need to be in the same folder as the Jupyter notebook file. If you are running the notebook on your own local setup, you need to download and put them in the same folder as the notebook.\n",
    "- You should submit your completed notebook as a Jupyter notebook through Blackboard.\n",
    "- Some questions may require you to define new python variables/functions and test your work by running cells over and over or add new cells for yourself to check/test. This is fine. Just make sure that after you have tested what you return is a clean notebook that runs smoothly and only has the output that is requested in each question.\n",
    "\n",
    "- Before submission, make sure that your notebook can be executed in a single run from beginning to end. E.g., by clicking the <kbd>Restart & Run All</kbd> under the <kbd>Kernel</kbd> menu. If there are questions/parts that you have left blank or incomplete, which do not allow a complete computational run to be executed, comment them out and add an explanation about your partial work in the same cell (as a python comment block)."
   ]
  },
  {
   "cell_type": "code",
   "execution_count": null,
   "id": "22ce7068-b8e0-43b2-b7f7-e1356a35615e",
   "metadata": {},
   "outputs": [],
   "source": [
    "import numpy as np\n",
    "import scipy.stats as st\n",
    "import pandas as pd\n",
    "import seaborn as sns\n",
    "import pymc as pm\n",
    "import arviz as az\n",
    "import matplotlib.pylab as plt\n",
    "\n",
    "sns.set_style(\"darkgrid\")\n",
    "sns.set_context(\"talk\")\n",
    "sns.color_palette(\"hls\", 8)\n",
    "\n",
    "# Setting matplotlib fonts\n",
    "from matplotlib import rc\n",
    "font = {'family': 'serif',\n",
    "        'weight': 'bold',\n",
    "        'size': '14'}\n",
    "rc('font', **font)\n",
    "\n",
    "\n",
    "# Below is a set of colors for matplotlib that is colorblind-friendly\n",
    "# To use them in plotting commands, you can simply set \"color=colorset[N]\",\n",
    "# where N is an integer in [0,16), reflecting the index of the colors below.\n",
    "colorset = ['#000000','#00270C','#00443C','#005083',\n",
    "            '#034BCA','#483CFC','#9C2BFF','#EB24F4',\n",
    "            '#FF2DC2','#FF4986','#FF7356','#FFA443',\n",
    "            '#EBD155','#D3F187','#D7FFC8','#FFFFFF']"
   ]
  },
  {
   "cell_type": "markdown",
   "id": "9e57187d-bcf5-44fd-aec8-75b615c92ea4",
   "metadata": {},
   "source": [
    "## Question 1\n",
    "\n",
    "we have made $N$ independent measurements of a quantity $Y$, at different values of quantity $X$. Assuming $Y$ is a function of $X$, we want to infer a model for this relationship.\n",
    "\n",
    "### Data\n",
    "\n",
    "Our data consists of:\n",
    "\n",
    "$$ x = [x_1,\\cdots,x_N] $$\n",
    "$$ \\hat{y}_{\\rm{obs}} = [\\hat{y}_1,\\cdots,\\hat{y}_N] $$\n",
    "$$ \\hat{\\sigma} = [\\hat{\\sigma}_1,\\cdots,\\hat{\\sigma}_N] $$\n",
    "\n",
    "\n"
   ]
  },
  {
   "cell_type": "code",
   "execution_count": null,
   "id": "b78e1c74-7d10-4630-bd82-dbab855b1f8b",
   "metadata": {},
   "outputs": [],
   "source": [
    "DATA = pd.read_csv('https://raw.githubusercontent.com/bersavosh/P4003/refs/heads/main/Assignment/q1_data.csv')\n",
    "DATA.head()"
   ]
  },
  {
   "cell_type": "markdown",
   "id": "7c4e97d5-1ebb-4f29-bed9-828b30607115",
   "metadata": {},
   "source": [
    "#### Q1 - part I: Visualize the data. [2 points]\n",
    "\n",
    "Using the methods we have covered in the class, visualize the data."
   ]
  },
  {
   "cell_type": "code",
   "execution_count": null,
   "id": "814fd0af-c65d-4842-9403-5306c008d3c7",
   "metadata": {},
   "outputs": [],
   "source": [
    "# <your turn>\n",
    "\n",
    "fig = plt.figure(figsize=(8, 6))\n",
    "ax = fig.add_subplot(1, 1, 1)\n",
    "\n",
    "\n",
    "\n",
    "# Plot cosmetics\n",
    "ax.set_xlabel('X')\n",
    "ax.set_ylabel('Y');"
   ]
  },
  {
   "cell_type": "markdown",
   "id": "4f6b9863-b581-4409-a818-4e4c10b17d55",
   "metadata": {},
   "source": [
    "### Our model\n",
    "\n",
    "We propose the following model:\n",
    "\n",
    "$$ Y_{\\rm{Model}}(x; a, b, c) = a x^b + c $$\n",
    "\n",
    "With the following priors:\n",
    "\n",
    "$$ a \\sim \\textrm{Uniform}(\\min=0,\\max=10) $$\n",
    "$$ b \\sim \\textrm{Exponential}(\\lambda_b=0.5) $$\n",
    "$$ c \\sim \\textrm{Normal}(\\mu_c=0,\\sigma_c=\\frac{a}{b}) $$\n",
    "\n",
    "and we define\n",
    "\n",
    "$$ \\hat{Y}_{\\rm{obs}} \\sim \\textrm{Normal}(\\mu_Y=Y_{\\rm{Model}}(x),\\sigma_Y=\\hat{\\sigma}) $$\n",
    "\n",
    "\n",
    "#### Q1 - part II: Build the model. [5 points]\n",
    "\n",
    "Build a PyMC model with the variables above and visualize its plate notation."
   ]
  },
  {
   "cell_type": "code",
   "execution_count": null,
   "id": "163a72cd-d122-47dd-b8f3-4403d0559a82",
   "metadata": {},
   "outputs": [],
   "source": [
    "# <your turn>\n",
    "\n",
    "with pm.Model() as q1_model:\n",
    "    ## Define your model here\n",
    "\n",
    "    \n",
    "# your plate notation here\n"
   ]
  },
  {
   "cell_type": "markdown",
   "id": "d3bf957c-800e-450b-8078-4cd326cc04f7",
   "metadata": {},
   "source": [
    "### Prior checking\n",
    "\n",
    "#### Q1 - part III: Perform prior and prior-predictive checking. [3 points]\n",
    "\n",
    "Perform the following steps (these can be done in a single cell or in a set of consecutive cells):\n",
    "- a: Perform prior and prior-predictive sampling from the model with 1000 draws.\n",
    "- b: Visualize the prior samples for $a, b, c$ in a pair-wise plot, with the marginal distributions plotted as well.\n",
    "- c: Visusalize 68% HDI of $Y_\\rm{model}$ and $Y_\\rm{obs}$ on top of your data."
   ]
  },
  {
   "cell_type": "code",
   "execution_count": null,
   "id": "353a90c0-6e81-4c4d-96cd-401478488633",
   "metadata": {},
   "outputs": [],
   "source": [
    "# <your turn>\n",
    "# a:\n",
    "\n",
    "with q1_model:\n",
    "    q1_sample_prior_predictive = "
   ]
  },
  {
   "cell_type": "code",
   "execution_count": null,
   "id": "0b90d4f6-fb97-4d1e-ad25-1c63e5628fe9",
   "metadata": {},
   "outputs": [],
   "source": [
    "# <your turn>\n",
    "# b:\n",
    "\n"
   ]
  },
  {
   "cell_type": "code",
   "execution_count": null,
   "id": "445c825b-7b46-4378-ac47-8b4c1af8fd70",
   "metadata": {},
   "outputs": [],
   "source": [
    "# <your turn>\n",
    "# c:\n",
    "\n",
    "fig = plt.figure(figsize=(8, 6))\n",
    "ax = fig.add_subplot(1, 1, 1)\n",
    "\n",
    "\n",
    "ax.legend()\n",
    "\n",
    "# Plot cosmetics\n",
    "ax.set_xlabel('X')\n",
    "ax.set_ylabel('Y');"
   ]
  },
  {
   "cell_type": "markdown",
   "id": "8aa3544d-95d9-4eae-92dd-7c7548e7dcb3",
   "metadata": {},
   "source": [
    "#### Q1 - part IV: interpret the posterior predictive sampling. [2 points]\n",
    "\n",
    "Consider your plot of $Y_\\rm{model}$ and $Y_\\rm{obs}$ on the data. How different $Y_\\rm{obs}$ look compared to $Y_\\rm{model}$? why do you think that is?"
   ]
  },
  {
   "cell_type": "raw",
   "id": "2663aaf2-51cb-4866-9c01-fe4c27d0e8d3",
   "metadata": {},
   "source": [
    "# <your turn>\n",
    "# Write your answer in this text block\n",
    "\n"
   ]
  },
  {
   "cell_type": "markdown",
   "id": "36d75dc8-2e4b-4b04-97c3-1a8b2935e6f8",
   "metadata": {},
   "source": [
    "### The posterior\n",
    "\n",
    "#### Q1 - part V: Perform sampling from the posterior distribution. [4 points]\n",
    "\n",
    "Perform sampling from the posterior, with sufficient number of warm-up draws and post-warm up samples (you can discard the warm-up sample). Demonstrate convergence of your sampling via appropriate metrics and visualizations (Restrict your inspection to $a,b,c$)."
   ]
  },
  {
   "cell_type": "code",
   "execution_count": null,
   "id": "beb4b786-2336-45f2-839b-cb9c817fccb5",
   "metadata": {},
   "outputs": [],
   "source": [
    "# <your turn>\n",
    "# You can add aditional cells if needed.\n",
    "\n",
    "with q1_model:\n",
    "    q1_mcmc_sample = \n",
    "\n"
   ]
  },
  {
   "cell_type": "markdown",
   "id": "d1ffdc8d-d4ae-4ab3-99cb-3a9b73b93ef8",
   "metadata": {},
   "source": [
    "#### Q1 - part VI: Explain your arguments (at least two) in support of convergence for your sampling. [4 points]"
   ]
  },
  {
   "cell_type": "raw",
   "id": "98a31762-751b-4303-bcc5-e075a18adeaa",
   "metadata": {},
   "source": [
    "# <your turn>\n",
    "# Write your answer in this text block\n",
    "\n"
   ]
  },
  {
   "cell_type": "markdown",
   "id": "91627f49-bce7-461d-9b7f-b61edd4de030",
   "metadata": {},
   "source": [
    "#### Q1 - part VII: explore/visualize and comment on any significant correlation between model parameters $a,b,c$ in the posterior. [3 points]"
   ]
  },
  {
   "cell_type": "code",
   "execution_count": null,
   "id": "b4e48054-d6d8-4845-afdf-ecb721955d4e",
   "metadata": {},
   "outputs": [],
   "source": [
    "# <your turn>\n",
    "# Explore correlations in this cell\n",
    "\n"
   ]
  },
  {
   "cell_type": "raw",
   "id": "d331186b-e1f5-4fa3-8f8b-139ddbf7633c",
   "metadata": {},
   "source": [
    "# <your turn>\n",
    "# Comment on the correlations in cell. Think of corrections in the context of our mathematical model.\n",
    "\n"
   ]
  },
  {
   "cell_type": "markdown",
   "id": "b4e83d50-19c6-4ce4-874a-c4eb33110bba",
   "metadata": {},
   "source": [
    "#### Q1 - part VIII: Assess influence of priors. [2 points]\n",
    "\n",
    "Explore influence of priors on the posteriors for $a,b,c$ and comment whether priors on any parameter has been influential."
   ]
  },
  {
   "cell_type": "code",
   "execution_count": null,
   "id": "fa409829-d9dd-4ed7-ada9-511d2e170833",
   "metadata": {},
   "outputs": [],
   "source": [
    "# Run this cell once without modification to combine the inference data sets\n",
    "q1_mcmc_sample.extend(q1_sample_prior_predictive)"
   ]
  },
  {
   "cell_type": "code",
   "execution_count": null,
   "id": "7094f745-6300-4a93-970f-a76e90228b01",
   "metadata": {},
   "outputs": [],
   "source": [
    "# <your turn>\n",
    "\n"
   ]
  },
  {
   "cell_type": "raw",
   "id": "ee6c0a3a-07d0-4f51-b957-02f6fd81bcd2",
   "metadata": {},
   "source": [
    "# <your turn>\n",
    "# Identify parameters for which the prior has been influential on the posterior.\n",
    "\n"
   ]
  },
  {
   "cell_type": "markdown",
   "id": "4ecb0b60-1622-41f3-b173-364609ff3cb4",
   "metadata": {},
   "source": [
    "### Posterior predictions\n",
    "\n",
    "#### Q1 - part IX: Perform posterior-predictive sampling and assess the outputs. [4 points]\n",
    "- a: perform posterior-predictive sampling and store the outputs within the same inference data you have built above.\n",
    "- b: plot 68% HDI for posterior of $Y_\\rm{model}$ and 68% HDI for posterior-predictive of $Y_\\rm{obs}$ on top of your data.\n",
    "- c: repeat step b but for 99% HDI."
   ]
  },
  {
   "cell_type": "code",
   "execution_count": null,
   "id": "2f30736a-abae-4f1c-bf14-43fd4cb04cc2",
   "metadata": {},
   "outputs": [],
   "source": [
    "# <your turn>\n",
    "# a:\n",
    "\n"
   ]
  },
  {
   "cell_type": "code",
   "execution_count": null,
   "id": "d7607efa-e90b-4e16-8214-b6eb73ed33ae",
   "metadata": {},
   "outputs": [],
   "source": [
    "# <your turn>\n",
    "# b:\n",
    "\n"
   ]
  },
  {
   "cell_type": "code",
   "execution_count": null,
   "id": "d66bd8b3-f4fe-46e2-9a5c-4c508f9cfd7a",
   "metadata": {},
   "outputs": [],
   "source": [
    "# <your turn>\n",
    "# c:\n",
    "\n"
   ]
  },
  {
   "cell_type": "markdown",
   "id": "fe27a1b5-0629-4bf8-8fa0-1f36abada189",
   "metadata": {},
   "source": [
    "#### Q1 - part X: Comment on whether you think the model describes the data in a reasonable manner. [2 points]"
   ]
  },
  {
   "cell_type": "raw",
   "id": "6c32632b-ebbc-49ee-bbdb-c2bf81922876",
   "metadata": {},
   "source": [
    "# <your turn>\n",
    "# Comment on the model compared to data\n",
    "\n"
   ]
  },
  {
   "cell_type": "markdown",
   "id": "bb128925-33c6-42ba-b248-79f3d58f2fc2",
   "metadata": {},
   "source": [
    "## Question 2\n",
    "\n",
    "### A new model for the same data\n",
    "\n",
    "We want to try a different statistical representation for the same mathematical model. We propose the following model:\n",
    "\n",
    "$$ Y_{\\rm{Model}}(x; a, b, c) = a x^b + c $$\n",
    "\n",
    "With the following priors:\n",
    "\n",
    "$$ a \\sim \\textrm{Uniform}(\\min=0,\\max=10) $$\n",
    "$$ b \\sim \\textrm{Exponential}(\\lambda_b=0.5) $$\n",
    "$$ c \\sim \\textrm{Normal}(\\mu_c=0,\\sigma_c=\\frac{a}{b}) $$\n",
    "\n",
    "The definitions above are the same as question 1. However, now we define\n",
    "\n",
    "$$ \\hat{Y}_{\\rm{obs}} \\sim \\textrm{StudentT}(\\mu_Y=Y_{\\rm{Model}}(x),\\sigma_Y=\\hat{\\sigma},\\nu_Y=\\nu) $$\n",
    "\n",
    "Where $\\hat{Y}_{\\rm{obs}}$ is now distributed following a [Student T distribution](https://distribution-explorer.github.io/continuous/student_t.html) (PyMC definition [here](https://www.pymc.io/projects/docs/en/stable/api/distributions/generated/pymc.StudentT.html)) and consider the following prior:\n",
    "\n",
    "$$ \\nu_Y \\sim \\textrm{Gamma}(\\alpha=7,\\beta=4) $$\n",
    "\n",
    "Where $\\textrm{Gamma}$ is the [Gamma distribution](https://distribution-explorer.github.io/continuous/gamma.html) (PyMc definition [here](https://www.pymc.io/projects/docs/en/latest/api/distributions/generated/pymc.Gamma.html)).\n",
    "\n",
    "#### Q2 - part I: Build the model. [3 points]\n",
    "\n",
    "Build a PyMC model with the variables above and visualize its plate notation."
   ]
  },
  {
   "cell_type": "code",
   "execution_count": null,
   "id": "697886ed-894a-4ba8-804b-ce54cc2472a1",
   "metadata": {},
   "outputs": [],
   "source": [
    "# <your turn>\n",
    "\n",
    "with pm.Model() as q2_model:\n",
    "    ## Define your model here\n",
    "\n",
    "# your plate notation here\n"
   ]
  },
  {
   "cell_type": "markdown",
   "id": "ee7aae10-0553-4b23-bd31-00c2d3da1c92",
   "metadata": {},
   "source": [
    "### Prior checking\n",
    "\n",
    "#### Q2 - part II: Perform prior and prior-predictive checking. [3 points]\n",
    "\n",
    "Perform the following steps (these can be done in a single cell or in a set of consecutive cells):\n",
    "- a: Perform prior and prior-predictive sampling from the model with 1000 draws.\n",
    "- b: Visualize the prior samples for $a, b, c, \\nu$ in a pair-wise plot, with the marginal distributions plotted as well.\n",
    "- c: Visusalize 68% HDI of $Y_\\rm{model}$ and $Y_\\rm{obs}$ on top of your data."
   ]
  },
  {
   "cell_type": "code",
   "execution_count": null,
   "id": "ddf5ee7f-9377-43f2-81de-d29dca482de2",
   "metadata": {},
   "outputs": [],
   "source": [
    "# <your turn>\n",
    "# a:\n",
    "\n",
    "with q2_model:\n",
    "    q2_sample_prior_predictive = "
   ]
  },
  {
   "cell_type": "code",
   "execution_count": null,
   "id": "9269cbe8-cf44-4c2e-8f2f-42d9812d01cf",
   "metadata": {},
   "outputs": [],
   "source": [
    "# <your turn>\n",
    "# b:\n",
    "\n"
   ]
  },
  {
   "cell_type": "code",
   "execution_count": null,
   "id": "c0943c14-1c77-4877-b577-321a3be92915",
   "metadata": {},
   "outputs": [],
   "source": [
    "# <your turn>\n",
    "# c:\n",
    "\n"
   ]
  },
  {
   "cell_type": "markdown",
   "id": "0e17d26d-6ab1-4af8-a7ed-a85ce003b3df",
   "metadata": {},
   "source": [
    "### The posterior\n",
    "\n",
    "#### Q2 - part III: Perform sampling from the posterior distribution. [2 points]\n",
    "\n",
    "Perform sampling from the posterior, with sufficient number of warm-up draws and post-warm up samples (you can discard the warm-up sample). Demonstrate convergence of your sampling via appropriate metrics and visualizations (Restrict your inspection to $a,b,c,\\nu$)."
   ]
  },
  {
   "cell_type": "code",
   "execution_count": null,
   "id": "0ec2786d-e7cd-47be-b770-95687e0b7a0c",
   "metadata": {},
   "outputs": [],
   "source": [
    "# <your turn>\n",
    "# You can add aditional cells if needed.\n",
    "\n",
    "with q2_model:\n",
    "    q2_mcmc_sample = \n",
    "\n"
   ]
  },
  {
   "cell_type": "markdown",
   "id": "4e518756-539e-4922-a9c4-c59b09220ab6",
   "metadata": {},
   "source": [
    "#### Q2 - part IV: explore correlation between model parameters $a, b, c, \\nu$. Is $\\nu$ correlated with any of the other parameters? [2 points]"
   ]
  },
  {
   "cell_type": "code",
   "execution_count": null,
   "id": "e3b8e131-65ea-4dac-8c12-9b15f65da886",
   "metadata": {},
   "outputs": [],
   "source": [
    "# <your turn>\n",
    "# Explore correlations in this cell\n",
    "\n"
   ]
  },
  {
   "cell_type": "raw",
   "id": "05f876ef-ec3a-446a-a280-53dfae7cb727",
   "metadata": {},
   "source": [
    "# <your turn>\n",
    "# Comment on correlations between nu and other parameters.\n",
    "\n"
   ]
  },
  {
   "cell_type": "markdown",
   "id": "d464bca8-cdc2-4553-a198-2b89e6539a96",
   "metadata": {},
   "source": [
    "#### Q2 - part V: Assess influence of priors. [3 points]\n",
    "\n",
    "Our new model has a new parameter. Hence we need to assess influence of priors for all parameters. Assess and comment whether priors on any parameter has been influential."
   ]
  },
  {
   "cell_type": "code",
   "execution_count": null,
   "id": "92c4c29a-34cd-4ad0-973c-69fdd9191856",
   "metadata": {},
   "outputs": [],
   "source": [
    "# Run this cell once without modification to combine the inference data sets\n",
    "q2_mcmc_sample.extend(q2_sample_prior_predictive)"
   ]
  },
  {
   "cell_type": "code",
   "execution_count": null,
   "id": "2c97c7f9-0991-466e-b10e-18031440e549",
   "metadata": {},
   "outputs": [],
   "source": [
    "# <your turn>\n",
    "\n"
   ]
  },
  {
   "cell_type": "raw",
   "id": "0dc69072-136c-4155-a8ff-dbba1d738db5",
   "metadata": {},
   "source": [
    "# <your turn>\n",
    "# Identify parameters for which the prior has been influential on the posterior.\n",
    "\n"
   ]
  },
  {
   "cell_type": "markdown",
   "id": "efa0a09d-a44d-4df2-bc0b-355b9fbff876",
   "metadata": {},
   "source": [
    "### Posterior predictions\n",
    "\n",
    "#### Q2 - part VI: Perform posterior-predictive sampling and assess the outputs. [2 points]\n",
    "- a: perform posterior-predictive sampling and store the outputs within the same inference data you have built above.\n",
    "- b: plot 68% HDI for posterior of $Y_\\rm{model}$ and 68% HDI for posterior-predictive of $Y_\\rm{obs}$ on top of your data.\n",
    "- c: repeat step b but for 99% HDI."
   ]
  },
  {
   "cell_type": "code",
   "execution_count": null,
   "id": "758fed52-5e0d-43e8-836d-04ca6f768c4e",
   "metadata": {},
   "outputs": [],
   "source": [
    "# <your turn>\n",
    "# a:\n",
    "\n"
   ]
  },
  {
   "cell_type": "code",
   "execution_count": null,
   "id": "5456c5ee-13c7-4ed6-972f-033e4301bacd",
   "metadata": {},
   "outputs": [],
   "source": [
    "# <your turn>\n",
    "# b:\n",
    "\n"
   ]
  },
  {
   "cell_type": "code",
   "execution_count": null,
   "id": "fb7a7378-92c5-4f37-beea-d2c8dcc6fe77",
   "metadata": {},
   "outputs": [],
   "source": [
    "# <your turn>\n",
    "# c:\n",
    "\n"
   ]
  },
  {
   "cell_type": "markdown",
   "id": "5b4fef61-39b0-4d31-8c16-44d724355862",
   "metadata": {},
   "source": [
    "## Question 3\n",
    "\n",
    "#### Q3 - part I: Visualize marginal posterior samples of $a,b,c$ from models in Question 1 and 2. The plot should show value of posterior median as posterior point-estimate and 95% HDI as interval estimate for each parameter. [2 points]"
   ]
  },
  {
   "cell_type": "code",
   "execution_count": null,
   "id": "362a4011-e7f7-433a-89ed-51fdbce1e17b",
   "metadata": {},
   "outputs": [],
   "source": [
    "# <your turn>\n",
    "\n"
   ]
  },
  {
   "cell_type": "markdown",
   "id": "1cd38893-d28a-4be8-9a9d-4ba521eac115",
   "metadata": {},
   "source": [
    "#### Q3 - part II: Compare the models in question 1 and 2. Which one appear to be a better model? Why? [2 points]"
   ]
  },
  {
   "cell_type": "raw",
   "id": "b0e1f09d-b647-4f29-a2e1-07f58568a96f",
   "metadata": {},
   "source": [
    "# <your turn>\n",
    "# Compare the models\n",
    "\n"
   ]
  },
  {
   "cell_type": "markdown",
   "id": "38a65274-07b0-4385-9f03-c89e5fd7f104",
   "metadata": {},
   "source": [
    "**End of questions**\n",
    "\n",
    "Make sure that you:\n",
    "\n",
    "- [x] Typed in your name in the first cell of the Notebook.\n",
    "- [x] Saved the Notebook after your modifications.\n",
    "- [x] Cleaned the Notebook: if you have added cells/work to test items that are not requested, remove them.\n",
    "- [x] Tested the Notebook and that the notebook can be executed in a single sequential run. E.g., by clicking the <kbd>Restart & Run All</kbd> under the <kbd>Kernel</kbd> menu.\n",
    "- [x] Make sure that every cell that should have an output, has an output displayed.\n",
    "- [x] If you're using Binder, save and download the completed Notebook.\n",
    "- [x] Upload the finished notebook to Blackboard (as Jupyter Notebook or PDF)\n",
    "\n",
    "**End of assignmnet**"
   ]
  }
 ],
 "metadata": {
  "kernelspec": {
   "display_name": "pymc5",
   "language": "python",
   "name": "pymc5"
  },
  "language_info": {
   "codemirror_mode": {
    "name": "ipython",
    "version": 3
   },
   "file_extension": ".py",
   "mimetype": "text/x-python",
   "name": "python",
   "nbconvert_exporter": "python",
   "pygments_lexer": "ipython3",
   "version": "3.11.5"
  }
 },
 "nbformat": 4,
 "nbformat_minor": 5
}
